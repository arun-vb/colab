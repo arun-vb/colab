{
  "nbformat": 4,
  "nbformat_minor": 0,
  "metadata": {
    "colab": {
      "name": "Pagerduty",
      "provenance": [],
      "authorship_tag": "ABX9TyPA6AbrSyXc12pJJu75yJaM",
      "include_colab_link": true
    },
    "kernelspec": {
      "name": "python3",
      "display_name": "Python 3"
    }
  },
  "cells": [
    {
      "cell_type": "markdown",
      "metadata": {
        "id": "view-in-github",
        "colab_type": "text"
      },
      "source": [
        "<a href=\"https://colab.research.google.com/github/arun-vb/colab/blob/master/Pagerduty.ipynb\" target=\"_parent\"><img src=\"https://colab.research.google.com/assets/colab-badge.svg\" alt=\"Open In Colab\"/></a>"
      ]
    },
    {
      "cell_type": "code",
      "metadata": {
        "id": "YFSfWN32TXmo",
        "colab_type": "code",
        "colab": {}
      },
      "source": [
        "\n",
        "import requests\n",
        "import pandas as pd\n",
        "import numpy as np\n",
        "\n",
        "url = \"https://******.pagerduty.com/api/v1/reports/raw/incidents.csv?since=2020-08-10T00%3A00%3A00&until=2020-08-12T23%3A59%3A59&filters[urgency]=high%2Clow&time_zone=Asia%2FKolkata\"\n",
        "\n",
        "querystring = {\"time_zone\":\"UTC\",\"is_overview\":\"false\"}\n",
        "\n",
        "headers = {\n",
        "    'accept': \"application/vnd.pagerduty+json;version=2\",\n",
        "    'content-type': \"application/json\",\n",
        "    'authorization': \"Token token=*******\"\n",
        "    }\n",
        "\n",
        "\n",
        "r = requests.request(\"GET\", url, headers=headers, params=querystring)\n",
        "#r = requests.request(\"GET\", url, headers=headers)\n",
        "csvdata = r.text\n",
        "print(csvdata)\n",
        "from io import StringIO\n",
        "df = pd.read_csv(StringIO(csvdata), sep=',')\n",
        "df['created_on'] = pd.to_datetime(df['created_on'])\n",
        "df['resolved_on'] = pd.to_datetime(df['resolved_on'])\n",
        "df['seconds_to_first_ack'] = pd.to_numeric(df['seconds_to_first_ack'])\n",
        "df['seconds_to_resolve'] = pd.to_numeric(df['seconds_to_resolve'])\n",
        "\n",
        "df.head()\n",
        "# For database connection\n",
        "# from sqlalchemy import create_engine\n",
        "\n",
        "# engine = \"postgresql+psycopg2://{user}:{password}@{host}:{port}/{dbname}\".format(\n",
        "#               user = \"metauser\",\n",
        "#               password = \"meta!23\",\n",
        "#               host = \"localhost\",\n",
        "#               port = \"5432\",\n",
        "#               dbname = \"jira\"\n",
        "# )\n",
        "\n",
        "# df.to_sql('pd_data', engine, if_exists='replace')"
      ],
      "execution_count": null,
      "outputs": []
    }
  ]
}